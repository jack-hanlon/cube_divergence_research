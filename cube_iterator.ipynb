{
 "cells": [
  {
   "cell_type": "markdown",
   "metadata": {},
   "source": [
    " # Divergence Rate of Discrete Cubes \n",
    " The growth rate of discretely defined integer n cubes can be calculated by analyzing the effective differential between the $n^{3}$ value of each consecutive cube. \n",
    " Suppose n: 1      2       3      4      5\n",
    " then $n^{3}$: 1     8       27    64     125\n",
    " <br/>\n",
    " 8-1 = 7 , 27 -8 = 19,  64 - 27 = 31, 125 - 64 = 61\n",
    " </br>\n",
    " We begin to notice the series : 7,19,31,61,91 ... \n",
    " </br> \n",
    " If one recognizes the distinction of the Triangle numbers as an aside, we can use said notation to show that the growth rate of the cubes grows linearly in correspondence to the nth value of the triangle number plus the initial constant of 1.\n",
    " (TRIANGLE NUMBERS): n = 1,2,3,4,5 T(n) = 1,3,6,10,15\n",
    " Thus we can deduce that the rate of change of discrete cubes can be represented as : $\\delta C = 6T(n) + 1$"
   ]
  },
  {
   "cell_type": "code",
   "execution_count": 23,
   "metadata": {},
   "outputs": [
    {
     "name": "stdout",
     "output_type": "stream",
     "text": [
      "Populating the interactive namespace from numpy and matplotlib\n"
     ]
    },
    {
     "name": "stderr",
     "output_type": "stream",
     "text": [
      "/usr/local/lib/python3.5/dist-packages/IPython/core/magics/pylab.py:160: UserWarning: pylab import has clobbered these variables: ['sum']\n",
      "`%matplotlib` prevents importing * from pylab and numpy\n",
      "  \"\\n`%matplotlib` prevents importing * from pylab and numpy\"\n"
     ]
    }
   ],
   "source": [
    "%pylab nbagg\n",
    "sum = 0\n",
    "\n",
    "def triangle_numbers(sum,n):\n",
    "    '''\n",
    "    Docstring: Calculates the Triangle number given a term n\n",
    "    input    : sum -> answer   && n -> term to be calculated\n",
    "    output   : sum\n",
    "    '''\n",
    "    if n == 1:\n",
    "        sum += 1\n",
    "        return sum\n",
    "    else:\n",
    "        sum = sum + n\n",
    "        return triangle_numbers(sum,n-1)\n",
    "\n"
   ]
  },
  {
   "cell_type": "code",
   "execution_count": 33,
   "metadata": {},
   "outputs": [
    {
     "name": "stdout",
     "output_type": "stream",
     "text": [
      "n^3: [   1    8   27   64  125  216  343  512  729 1000]\n",
      "Cube Iterated Difference: [  7  19  37  61  91 127 169 217 271 331]\n",
      "Previous Cube + Iterator: [   8   27   64  125  216  343  512  729 1000 1331]\n"
     ]
    }
   ],
   "source": [
    "def cube_iterate(sum,n):\n",
    "    '''\n",
    "    Docstring: Equation  that finds difference in discrete cubes\n",
    "    input    : Sum - > output , n - > cube to be iterated\n",
    "    output   : Sum\n",
    "    '''\n",
    "    sum = 0\n",
    "    return 6 * triangle_numbers(sum,n) + 1\n",
    "\n",
    "\n",
    "\n",
    "x = [i for i in range(1,11)]\n",
    "y = []\n",
    "x3 = []\n",
    "# Creates a list of iterated differences in cubes\n",
    "for i in range(1,11):\n",
    "    y.append(cube_iterate(sum,i))\n",
    "# Creates a discrete cubes list\n",
    "for j in x:\n",
    "    x3.append(j**3)\n",
    "\n",
    "x3 = array(x3)\n",
    "y = array(y)\n",
    "z = x3 + y \n",
    "print(\"n^3: {}\".format(x3))\n",
    "print(\"Cube Iterated Difference: {}\".format(y))\n",
    "print(\"Previous Cube + Iterator: {}\".format(z))\n",
    "\n"
   ]
  },
  {
   "cell_type": "code",
   "execution_count": null,
   "metadata": {},
   "outputs": [],
   "source": []
  }
 ],
 "metadata": {
  "kernelspec": {
   "display_name": "Python 3",
   "language": "python",
   "name": "python3"
  },
  "language_info": {
   "codemirror_mode": {
    "name": "ipython",
    "version": 3
   },
   "file_extension": ".py",
   "mimetype": "text/x-python",
   "name": "python",
   "nbconvert_exporter": "python",
   "pygments_lexer": "ipython3",
   "version": "3.5.2"
  }
 },
 "nbformat": 4,
 "nbformat_minor": 2
}
